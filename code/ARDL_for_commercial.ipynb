{
 "cells": [
  {
   "cell_type": "markdown",
   "id": "39a9db70",
   "metadata": {},
   "source": [
    "# ARDL预测公共建筑电碳关系"
   ]
  },
  {
   "cell_type": "markdown",
   "id": "743e9674",
   "metadata": {},
   "source": [
    "导入数据"
   ]
  },
  {
   "cell_type": "code",
   "execution_count": 10,
   "id": "031932dd",
   "metadata": {},
   "outputs": [],
   "source": [
    "from statsmodels.tsa.api import ARDL\n",
    "from statsmodels.tsa.ardl import ardl_select_order\n",
    "import matplotlib.pyplot as plt\n",
    "import pandas as pd\n",
    "import numpy as np\n",
    "import matplotlib.dates as pdates\n",
    "import warnings\n",
    "from statsmodels.tsa.stattools import adfuller\n",
    "import statsmodels.api as sm\n",
    "warnings.filterwarnings(\"ignore\")"
   ]
  },
  {
   "cell_type": "code",
   "execution_count": 11,
   "id": "3abfc33d",
   "metadata": {},
   "outputs": [
    {
     "data": {
      "text/html": [
       "<div>\n",
       "<style scoped>\n",
       "    .dataframe tbody tr th:only-of-type {\n",
       "        vertical-align: middle;\n",
       "    }\n",
       "\n",
       "    .dataframe tbody tr th {\n",
       "        vertical-align: top;\n",
       "    }\n",
       "\n",
       "    .dataframe thead th {\n",
       "        text-align: right;\n",
       "    }\n",
       "</style>\n",
       "<table border=\"1\" class=\"dataframe\">\n",
       "  <thead>\n",
       "    <tr style=\"text-align: right;\">\n",
       "      <th></th>\n",
       "      <th>Unnamed: 0</th>\n",
       "      <th>year</th>\n",
       "      <th>province</th>\n",
       "      <th>Electricity</th>\n",
       "      <th>coal and gas</th>\n",
       "      <th>Heat</th>\n",
       "      <th>CO2</th>\n",
       "    </tr>\n",
       "  </thead>\n",
       "  <tbody>\n",
       "    <tr>\n",
       "      <th>685</th>\n",
       "      <td>685</td>\n",
       "      <td>2019</td>\n",
       "      <td>Liaoning</td>\n",
       "      <td>110.40</td>\n",
       "      <td>55.68</td>\n",
       "      <td>194.32</td>\n",
       "      <td>1.709605</td>\n",
       "    </tr>\n",
       "    <tr>\n",
       "      <th>686</th>\n",
       "      <td>686</td>\n",
       "      <td>2019</td>\n",
       "      <td>Chongqing</td>\n",
       "      <td>73.14</td>\n",
       "      <td>71.82</td>\n",
       "      <td>0.00</td>\n",
       "      <td>3.347195</td>\n",
       "    </tr>\n",
       "    <tr>\n",
       "      <th>687</th>\n",
       "      <td>687</td>\n",
       "      <td>2019</td>\n",
       "      <td>Shaanxi</td>\n",
       "      <td>93.91</td>\n",
       "      <td>100.55</td>\n",
       "      <td>890.58</td>\n",
       "      <td>3.925946</td>\n",
       "    </tr>\n",
       "    <tr>\n",
       "      <th>688</th>\n",
       "      <td>688</td>\n",
       "      <td>2019</td>\n",
       "      <td>Qinghai</td>\n",
       "      <td>12.41</td>\n",
       "      <td>27.57</td>\n",
       "      <td>118.08</td>\n",
       "      <td>1.649972</td>\n",
       "    </tr>\n",
       "    <tr>\n",
       "      <th>689</th>\n",
       "      <td>689</td>\n",
       "      <td>2019</td>\n",
       "      <td>Heilongjiang</td>\n",
       "      <td>53.30</td>\n",
       "      <td>529.84</td>\n",
       "      <td>4108.22</td>\n",
       "      <td>9.230348</td>\n",
       "    </tr>\n",
       "  </tbody>\n",
       "</table>\n",
       "</div>"
      ],
      "text/plain": [
       "     Unnamed: 0  year      province  Electricity  coal and gas     Heat  \\\n",
       "685         685  2019      Liaoning       110.40         55.68   194.32   \n",
       "686         686  2019     Chongqing        73.14         71.82     0.00   \n",
       "687         687  2019       Shaanxi        93.91        100.55   890.58   \n",
       "688         688  2019       Qinghai        12.41         27.57   118.08   \n",
       "689         689  2019  Heilongjiang        53.30        529.84  4108.22   \n",
       "\n",
       "          CO2  \n",
       "685  1.709605  \n",
       "686  3.347195  \n",
       "687  3.925946  \n",
       "688  1.649972  \n",
       "689  9.230348  "
      ]
     },
     "execution_count": 11,
     "metadata": {},
     "output_type": "execute_result"
    }
   ],
   "source": [
    "data=pd.read_csv(\".//data/Wholesale, Retail Trade and Catering Service.csv\")\n",
    "data.tail()"
   ]
  },
  {
   "cell_type": "markdown",
   "id": "b8ace36a",
   "metadata": {},
   "source": [
    "## 输入要考察的省份"
   ]
  },
  {
   "cell_type": "code",
   "execution_count": 12,
   "id": "3ef472d9",
   "metadata": {},
   "outputs": [
    {
     "name": "stdout",
     "output_type": "stream",
     "text": [
      "请输入省份(默认为北京)：\n"
     ]
    }
   ],
   "source": [
    "Provinces=data.province.drop_duplicates()\n",
    "\n",
    "province=input(\"请输入省份(默认为北京)：\" )or \"Beijing\"\n",
    "while province not in Provinces.values:\n",
    "    province=input(\"输入错误，请重新输入(默认为北京)：\" )or \"Beijing\""
   ]
  },
  {
   "cell_type": "code",
   "execution_count": 13,
   "id": "ecf98e60",
   "metadata": {},
   "outputs": [],
   "source": [
    "df=data[data.province==province]\n",
    "df.index=df.year\n",
    "df=df.drop(columns=['Unnamed: 0'])"
   ]
  },
  {
   "cell_type": "code",
   "execution_count": 14,
   "id": "f9b5306b",
   "metadata": {},
   "outputs": [
    {
     "data": {
      "text/html": [
       "<div>\n",
       "<style scoped>\n",
       "    .dataframe tbody tr th:only-of-type {\n",
       "        vertical-align: middle;\n",
       "    }\n",
       "\n",
       "    .dataframe tbody tr th {\n",
       "        vertical-align: top;\n",
       "    }\n",
       "\n",
       "    .dataframe thead th {\n",
       "        text-align: right;\n",
       "    }\n",
       "</style>\n",
       "<table border=\"1\" class=\"dataframe\">\n",
       "  <thead>\n",
       "    <tr style=\"text-align: right;\">\n",
       "      <th></th>\n",
       "      <th>year</th>\n",
       "      <th>province</th>\n",
       "      <th>Electricity</th>\n",
       "      <th>coal and gas</th>\n",
       "      <th>Heat</th>\n",
       "      <th>CO2</th>\n",
       "    </tr>\n",
       "    <tr>\n",
       "      <th>year</th>\n",
       "      <th></th>\n",
       "      <th></th>\n",
       "      <th></th>\n",
       "      <th></th>\n",
       "      <th></th>\n",
       "      <th></th>\n",
       "    </tr>\n",
       "  </thead>\n",
       "  <tbody>\n",
       "    <tr>\n",
       "      <th>2015</th>\n",
       "      <td>2015</td>\n",
       "      <td>Beijing</td>\n",
       "      <td>93.1700</td>\n",
       "      <td>78.290000</td>\n",
       "      <td>1353.880000</td>\n",
       "      <td>3.523065</td>\n",
       "    </tr>\n",
       "    <tr>\n",
       "      <th>2016</th>\n",
       "      <td>2016</td>\n",
       "      <td>Beijing</td>\n",
       "      <td>97.6806</td>\n",
       "      <td>72.991900</td>\n",
       "      <td>1248.408400</td>\n",
       "      <td>3.294925</td>\n",
       "    </tr>\n",
       "    <tr>\n",
       "      <th>2017</th>\n",
       "      <td>2017</td>\n",
       "      <td>Beijing</td>\n",
       "      <td>99.4894</td>\n",
       "      <td>63.270923</td>\n",
       "      <td>1245.772207</td>\n",
       "      <td>3.140578</td>\n",
       "    </tr>\n",
       "    <tr>\n",
       "      <th>2018</th>\n",
       "      <td>2018</td>\n",
       "      <td>Beijing</td>\n",
       "      <td>102.9000</td>\n",
       "      <td>32.040000</td>\n",
       "      <td>1274.020000</td>\n",
       "      <td>2.542527</td>\n",
       "    </tr>\n",
       "    <tr>\n",
       "      <th>2019</th>\n",
       "      <td>2019</td>\n",
       "      <td>Beijing</td>\n",
       "      <td>96.5100</td>\n",
       "      <td>29.750000</td>\n",
       "      <td>1206.890000</td>\n",
       "      <td>2.441161</td>\n",
       "    </tr>\n",
       "  </tbody>\n",
       "</table>\n",
       "</div>"
      ],
      "text/plain": [
       "      year province  Electricity  coal and gas         Heat       CO2\n",
       "year                                                                 \n",
       "2015  2015  Beijing      93.1700     78.290000  1353.880000  3.523065\n",
       "2016  2016  Beijing      97.6806     72.991900  1248.408400  3.294925\n",
       "2017  2017  Beijing      99.4894     63.270923  1245.772207  3.140578\n",
       "2018  2018  Beijing     102.9000     32.040000  1274.020000  2.542527\n",
       "2019  2019  Beijing      96.5100     29.750000  1206.890000  2.441161"
      ]
     },
     "execution_count": 14,
     "metadata": {},
     "output_type": "execute_result"
    }
   ],
   "source": [
    "df.tail()"
   ]
  },
  {
   "cell_type": "code",
   "execution_count": 15,
   "id": "4525e049",
   "metadata": {},
   "outputs": [
    {
     "data": {
      "image/png": "[encoded data removed]",
      "text/plain": [
       "<Figure size 1000x500 with 1 Axes>"
      ]
     },
     "metadata": {},
     "output_type": "display_data"
    }
   ],
   "source": [
    "df.index=pd.to_datetime(df.year,format=\"%Y\")\n",
    "# df=df.drop(columns=['Unnamed:0','year','province'])\n",
    "ax=(df-df.mean()).plot(figsize=(10,5))"
   ]
  },
  {
   "cell_type": "code",
   "execution_count": 16,
   "id": "317a0352",
   "metadata": {},
   "outputs": [
    {
     "data": {
      "text/html": [
       "<div>\n",
       "<style scoped>\n",
       "    .dataframe tbody tr th:only-of-type {\n",
       "        vertical-align: middle;\n",
       "    }\n",
       "\n",
       "    .dataframe tbody tr th {\n",
       "        vertical-align: top;\n",
       "    }\n",
       "\n",
       "    .dataframe thead th {\n",
       "        text-align: right;\n",
       "    }\n",
       "</style>\n",
       "<table border=\"1\" class=\"dataframe\">\n",
       "  <thead>\n",
       "    <tr style=\"text-align: right;\">\n",
       "      <th></th>\n",
       "      <th>year</th>\n",
       "      <th>province</th>\n",
       "      <th>Electricity</th>\n",
       "      <th>coal and gas</th>\n",
       "      <th>Heat</th>\n",
       "      <th>CO2</th>\n",
       "    </tr>\n",
       "    <tr>\n",
       "      <th>year</th>\n",
       "      <th></th>\n",
       "      <th></th>\n",
       "      <th></th>\n",
       "      <th></th>\n",
       "      <th></th>\n",
       "      <th></th>\n",
       "    </tr>\n",
       "  </thead>\n",
       "  <tbody>\n",
       "    <tr>\n",
       "      <th>2015-01-01</th>\n",
       "      <td>2015</td>\n",
       "      <td>Beijing</td>\n",
       "      <td>93.1700</td>\n",
       "      <td>78.290000</td>\n",
       "      <td>1353.880000</td>\n",
       "      <td>3.523065</td>\n",
       "    </tr>\n",
       "    <tr>\n",
       "      <th>2016-01-01</th>\n",
       "      <td>2016</td>\n",
       "      <td>Beijing</td>\n",
       "      <td>97.6806</td>\n",
       "      <td>72.991900</td>\n",
       "      <td>1248.408400</td>\n",
       "      <td>3.294925</td>\n",
       "    </tr>\n",
       "    <tr>\n",
       "      <th>2017-01-01</th>\n",
       "      <td>2017</td>\n",
       "      <td>Beijing</td>\n",
       "      <td>99.4894</td>\n",
       "      <td>63.270923</td>\n",
       "      <td>1245.772207</td>\n",
       "      <td>3.140578</td>\n",
       "    </tr>\n",
       "    <tr>\n",
       "      <th>2018-01-01</th>\n",
       "      <td>2018</td>\n",
       "      <td>Beijing</td>\n",
       "      <td>102.9000</td>\n",
       "      <td>32.040000</td>\n",
       "      <td>1274.020000</td>\n",
       "      <td>2.542527</td>\n",
       "    </tr>\n",
       "    <tr>\n",
       "      <th>2019-01-01</th>\n",
       "      <td>2019</td>\n",
       "      <td>Beijing</td>\n",
       "      <td>96.5100</td>\n",
       "      <td>29.750000</td>\n",
       "      <td>1206.890000</td>\n",
       "      <td>2.441161</td>\n",
       "    </tr>\n",
       "  </tbody>\n",
       "</table>\n",
       "</div>"
      ],
      "text/plain": [
       "            year province  Electricity  coal and gas         Heat       CO2\n",
       "year                                                                       \n",
       "2015-01-01  2015  Beijing      93.1700     78.290000  1353.880000  3.523065\n",
       "2016-01-01  2016  Beijing      97.6806     72.991900  1248.408400  3.294925\n",
       "2017-01-01  2017  Beijing      99.4894     63.270923  1245.772207  3.140578\n",
       "2018-01-01  2018  Beijing     102.9000     32.040000  1274.020000  2.542527\n",
       "2019-01-01  2019  Beijing      96.5100     29.750000  1206.890000  2.441161"
      ]
     },
     "execution_count": 16,
     "metadata": {},
     "output_type": "execute_result"
    }
   ],
   "source": [
    "test_num=5\n",
    "train_set=df[0:-test_num]\n",
    "test_set=df[-test_num:]\n",
    "test_set.tail()"
   ]
  },
  {
   "cell_type": "code",
   "execution_count": 17,
   "id": "dd0e1d06",
   "metadata": {},
   "outputs": [],
   "source": [
    "def Find_opt_trend(train_set):\n",
    "    trend_option=['n','c','t','ct']\n",
    "    for trend in trend_option:\n",
    "        res_sol=ardl_select_order(train_set.CO2,0,train_set[['Electricity','coal and gas','Heat']],1,ic='aic',trend=trend)\n",
    "        res=res_sol.model.fit()\n",
    "        if 'AIC' not in vars():\n",
    "            AIC=res.aic\n",
    "            opt_trend=trend\n",
    "        else:\n",
    "            if res.aic<AIC:\n",
    "                opt_trend=trend\n",
    "    return opt_trend                "
   ]
  },
  {
   "cell_type": "code",
   "execution_count": 22,
   "id": "92fdf97d",
   "metadata": {},
   "outputs": [
    {
     "name": "stdout",
     "output_type": "stream",
     "text": [
      "Shanghai 的SMAPE为1.222 %\n",
      "\n",
      "(0, 0, 0, 0)\n",
      "Yunnan 的SMAPE为1.988 %\n",
      "\n",
      "(0, 0, 0, 0)\n",
      "InnerMongolia 的SMAPE为5.274 %\n",
      "\n",
      "(0, 0, 0, 0)\n",
      "Beijing 的SMAPE为1.570 %\n",
      "\n",
      "(0, 0, 0)\n",
      "Jilin 的SMAPE为1.983 %\n",
      "\n",
      "(0, 0, 0, 0)\n",
      "Sichuan 的SMAPE为1.443 %\n",
      "\n",
      "(0, 0, 0)\n",
      "Tianjin 的SMAPE为2.590 %\n",
      "\n",
      "(0, 0, 0, 0)\n",
      "Ningxia 的SMAPE为13.314 %\n",
      "\n",
      "(0, 0, 0)\n",
      "Anhui 的SMAPE为2.141 %\n",
      "\n",
      "(0, 0, 0)\n",
      "Shandong 的SMAPE为2.603 %\n",
      "\n",
      "(0, 0, 0, 0)\n",
      "Shanxi 的SMAPE为2.762 %\n",
      "\n",
      "(0, 0, 0, 0)\n",
      "Guangdong 的SMAPE为2.037 %\n",
      "\n",
      "(0, 0)\n",
      "Guangxi 的SMAPE为0.976 %\n",
      "\n",
      "(0, 0, 0)\n",
      "Xinjiang 的SMAPE为2.626 %\n",
      "\n",
      "(0, 0, 0)\n",
      "Jiangsu 的SMAPE为5.010 %\n",
      "\n",
      "(0, 0, 0)\n",
      "Jiangxi 的SMAPE为6.149 %\n",
      "\n",
      "(0, 0)\n",
      "Hebei 的SMAPE为2.608 %\n",
      "\n",
      "(0, 0, 0, 0)\n",
      "Henan 的SMAPE为6.195 %\n",
      "\n",
      "(0, 0)\n",
      "Zhejiang 的SMAPE为0.924 %\n",
      "\n",
      "(0, 0, 0)\n",
      "Hainan 的SMAPE为5.598 %\n",
      "\n",
      "(0, 0)\n",
      "Hubei 的SMAPE为2.567 %\n",
      "\n",
      "(0, 0, 0)\n",
      "Hunan 的SMAPE为4.433 %\n",
      "\n",
      "(0, 0, 0)\n",
      "Gansu 的SMAPE为1.164 %\n",
      "\n",
      "(0, 0, 0)\n",
      "Fujian 的SMAPE为1.549 %\n",
      "\n",
      "(0, 0, 0)\n",
      "Guizhou 的SMAPE为1.161 %\n",
      "\n",
      "(0, 0, 0)\n",
      "Liaoning 的SMAPE为3.450 %\n",
      "\n",
      "(0, 0, 0)\n",
      "Chongqing 的SMAPE为3.884 %\n",
      "\n",
      "(0, 0)\n",
      "Shaanxi 的SMAPE为5.369 %\n",
      "\n",
      "(0, 0)\n",
      "Qinghai 的SMAPE为5.596 %\n",
      "\n",
      "(0, 0, 0)\n",
      "Heilongjiang 的SMAPE为3.285 %\n",
      "\n",
      "(0, 0, 0)\n",
      "CPU times: total: 1min 2s\n",
      "Wall time: 10.7 s\n"
     ]
    }
   ],
   "source": [
    "%%time\n",
    "for province in Provinces:\n",
    "    df=data[data.province==province]\n",
    "    df.index=df.year\n",
    "    df=df.drop(columns=['Unnamed: 0'])\n",
    "    df.index=pd.to_datetime(df.year,format=\"%Y\")\n",
    "#     test_num=4\n",
    "#     train_set=df[0:-test_num]\n",
    "#     test_set=df[-test_num:]\n",
    "    trend=Find_opt_trend(df)\n",
    "#     res_sol=ardl_select_order(train_set.CO2,0,train_set[['Electricity','coal and gas','Heat']],0,ic='aic',trend=trend)\n",
    "#     res=res_sol.model.fit()\n",
    "#     predict=res.get_prediction(start=len(df)-test_num,end=len(df)-1,exog_oos=test_set[['Electricity','coal and gas','Heat']])\n",
    "#     predict_value=pd.Series(predict.predicted_mean.values,index=test_set.index)\n",
    "#     err=np.mean(np.abs(predict_value-test_set.CO2)/test_set.CO2)*100\n",
    "    res_sol=ardl_select_order(df.CO2,0,df[['Electricity','coal and gas','Heat']],0,ic='aic',trend=trend)\n",
    "    res=res_sol.model.fit()\n",
    "    model = sm.OLS(df.CO2, sm.add_constant(df[['Electricity', 'coal and gas', 'Heat']])).fit()\n",
    "    r_squared = model.rsquared\n",
    "#     predict=model.get_prediction(start=0,end=len(df)-1,exog_oos=df[['Electricity','coal and gas','Heat']])\n",
    "    predict=model.get_prediction(sm.add_constant(df[['Electricity', 'coal and gas', 'Heat']]))\n",
    "    predict_value=pd.Series(predict.predicted_mean,index=df.index)\n",
    "    predict_conf_int=predict.conf_int()\n",
    "    err=np.mean(np.abs((predict_value-df.CO2)/(predict_value+df.CO2)/2))*100\n",
    "    fig,ax=plt.subplots(figsize=(10,5))\n",
    "    fig.suptitle(province+\" SMAPE=\"+format(err,'.3f')+\"%\")\n",
    "    ax.plot(df.index,df.CO2,label='real')\n",
    "    ax.plot(df.index,predict_value.values,label='predicted')\n",
    "    ax.fill_between(df.index,predict_conf_int[:,0],predict_conf_int[:,1],alpha=0.3,color='grey',label=\"95% Conf int\")\n",
    "    ax.legend(loc='best')\n",
    "    filename=\".\\\\figure\\\\\" +province+\"_R^2=\"+format(r_squared,'.3f')+\".png\"\n",
    "    plt.savefig(filename,dpi=150)\n",
    "    plt.close()\n",
    "    print(province,\"的SMAPE为%.3f\"% err,\"%\\n\")\n",
    "    print(res_sol.model.ardl_order)"
   ]
  },
  {
   "cell_type": "code",
   "execution_count": 9,
   "id": "6d48db0a",
   "metadata": {},
   "outputs": [
    {
     "name": "stdout",
     "output_type": "stream",
     "text": [
      "(0, 0, 0)\n"
     ]
    }
   ],
   "source": [
    "trend=Find_opt_trend(train_set)\n",
    "res_sol=ardl_select_order(train_set.CO2,0,train_set[['Electricity','coal and gas','Heat']],0,ic='aic',trend=trend)\n",
    "print(res_sol.model.ardl_order)"
   ]
  },
  {
   "cell_type": "code",
   "execution_count": 10,
   "id": "32b8d3e0",
   "metadata": {},
   "outputs": [
    {
     "data": {
      "text/html": [
       "<table class=\"simpletable\">\n",
       "<caption>ARDL Model Results</caption>\n",
       "<tr>\n",
       "  <th>Dep. Variable:</th>        <td>CO2</td>       <th>  No. Observations:  </th>   <td>18</td>   \n",
       "</tr>\n",
       "<tr>\n",
       "  <th>Model:</th>           <td>ARDL(0, 0, 0)</td>  <th>  Log Likelihood     </th> <td>14.152</td> \n",
       "</tr>\n",
       "<tr>\n",
       "  <th>Method:</th>         <td>Conditional MLE</td> <th>  S.D. of innovations</th>  <td>0.110</td> \n",
       "</tr>\n",
       "<tr>\n",
       "  <th>Date:</th>          <td>Thu, 11 May 2023</td> <th>  AIC                </th> <td>-18.303</td>\n",
       "</tr>\n",
       "<tr>\n",
       "  <th>Time:</th>              <td>19:58:37</td>     <th>  BIC                </th> <td>-13.851</td>\n",
       "</tr>\n",
       "<tr>\n",
       "  <th>Sample:</th>           <td>01-01-1997</td>    <th>  HQIC               </th> <td>-17.689</td>\n",
       "</tr>\n",
       "<tr>\n",
       "  <th></th>                 <td>- 01-01-2014</td>   <th>                     </th>    <td> </td>   \n",
       "</tr>\n",
       "</table>\n",
       "<table class=\"simpletable\">\n",
       "<tr>\n",
       "         <td></td>            <th>coef</th>     <th>std err</th>      <th>z</th>      <th>P>|z|</th>  <th>[0.025</th>    <th>0.975]</th>  \n",
       "</tr>\n",
       "<tr>\n",
       "  <th>const</th>           <td>   -0.1019</td> <td>    0.091</td> <td>   -1.120</td> <td> 0.282</td> <td>   -0.297</td> <td>    0.093</td>\n",
       "</tr>\n",
       "<tr>\n",
       "  <th>trend</th>           <td>    0.1210</td> <td>    0.017</td> <td>    7.018</td> <td> 0.000</td> <td>    0.084</td> <td>    0.158</td>\n",
       "</tr>\n",
       "<tr>\n",
       "  <th>coal and gas.L0</th> <td>    0.0279</td> <td>    0.002</td> <td>   17.314</td> <td> 0.000</td> <td>    0.024</td> <td>    0.031</td>\n",
       "</tr>\n",
       "<tr>\n",
       "  <th>Heat.L0</th>         <td>   -0.0008</td> <td>    0.000</td> <td>   -3.902</td> <td> 0.002</td> <td>   -0.001</td> <td>   -0.000</td>\n",
       "</tr>\n",
       "</table>"
      ],
      "text/plain": [
       "<class 'statsmodels.iolib.summary.Summary'>\n",
       "\"\"\"\n",
       "                              ARDL Model Results                              \n",
       "==============================================================================\n",
       "Dep. Variable:                    CO2   No. Observations:                   18\n",
       "Model:                  ARDL(0, 0, 0)   Log Likelihood                  14.152\n",
       "Method:               Conditional MLE   S.D. of innovations              0.110\n",
       "Date:                Thu, 11 May 2023   AIC                            -18.303\n",
       "Time:                        19:58:37   BIC                            -13.851\n",
       "Sample:                    01-01-1997   HQIC                           -17.689\n",
       "                         - 01-01-2014                                         \n",
       "===================================================================================\n",
       "                      coef    std err          z      P>|z|      [0.025      0.975]\n",
       "-----------------------------------------------------------------------------------\n",
       "const              -0.1019      0.091     -1.120      0.282      -0.297       0.093\n",
       "trend               0.1210      0.017      7.018      0.000       0.084       0.158\n",
       "coal and gas.L0     0.0279      0.002     17.314      0.000       0.024       0.031\n",
       "Heat.L0            -0.0008      0.000     -3.902      0.002      -0.001      -0.000\n",
       "===================================================================================\n",
       "\"\"\""
      ]
     },
     "execution_count": 10,
     "metadata": {},
     "output_type": "execute_result"
    }
   ],
   "source": [
    "res=res_sol.model.fit()\n",
    "res.summary()"
   ]
  },
  {
   "cell_type": "code",
   "execution_count": 11,
   "id": "e4fe8d2d",
   "metadata": {},
   "outputs": [
    {
     "data": {
      "text/plain": [
       "-18.303047735712806"
      ]
     },
     "execution_count": 11,
     "metadata": {},
     "output_type": "execute_result"
    }
   ],
   "source": [
    "res.aic"
   ]
  },
  {
   "cell_type": "code",
   "execution_count": 12,
   "id": "9a7759e2",
   "metadata": {},
   "outputs": [
    {
     "name": "stdout",
     "output_type": "stream",
     "text": [
      "Beijing 的平均预测误差为4.107 %\n",
      "\n"
     ]
    }
   ],
   "source": [
    "predict=res.get_prediction(start=len(df)-test_num,end=len(df)-1,exog_oos=test_set[['Electricity','coal and gas','Heat']])\n",
    "predict_value=pd.Series(predict.predicted_mean.values,index=test_set.index)\n",
    "err=np.mean(np.abs(predict_value-test_set.CO2)/test_set.CO2)*100\n",
    "predict_conf_int=predict.conf_int()\n",
    "print(province,\"的平均预测误差为%.3f\"% err,\"%\\n\")"
   ]
  },
  {
   "cell_type": "code",
   "execution_count": 13,
   "id": "9218aaf7",
   "metadata": {},
   "outputs": [
    {
     "data": {
      "image/png": "[encoded data removed]",
      "text/plain": [
       "<Figure size 1000x500 with 1 Axes>"
      ]
     },
     "metadata": {},
     "output_type": "display_data"
    }
   ],
   "source": [
    "fig,ax=plt.subplots(figsize=(10,5))\n",
    "ax.plot(df.index,df.CO2,label='historic')\n",
    "ax.plot(test_set.index,test_set.CO2,label='real')\n",
    "ax.plot(predict_value.index,predict_value.values,label='predicted')\n",
    "ax.fill_between(predict_conf_int.index,predict_conf_int['lower'],predict_conf_int['upper'],alpha=0.3,color='grey',label=\"95% Conf int\")\n",
    "ax.legend(loc='best')\n",
    "plt.show()"
   ]
  },
  {
   "cell_type": "code",
   "execution_count": 14,
   "id": "2ee4b2f1",
   "metadata": {},
   "outputs": [
    {
     "data": {
      "text/plain": [
       "[<matplotlib.lines.Line2D at 0x268b5109990>,\n",
       " <matplotlib.lines.Line2D at 0x268b5131b40>]"
      ]
     },
     "execution_count": 14,
     "metadata": {},
     "output_type": "execute_result"
    },
    {
     "data": {
      "image/png": "[encoded data removed]",
      "text/plain": [
       "<Figure size 640x480 with 1 Axes>"
      ]
     },
     "metadata": {},
     "output_type": "display_data"
    }
   ],
   "source": [
    "plt.plot(df.index,df.CO2/df.CO2.mean(),':',df.index,df.Electricity/df.Electricity.mean())"
   ]
  },
  {
   "cell_type": "code",
   "execution_count": 89,
   "id": "a53915c8",
   "metadata": {},
   "outputs": [
    {
     "data": {
      "text/plain": [
       "0.17126422263405675"
      ]
     },
     "execution_count": 89,
     "metadata": {},
     "output_type": "execute_result"
    }
   ],
   "source": [
    "MASE=np.mean(np.abs(df.CO2-predict_value))/np.abs(df.CO2.diff(1).dropna().mean())\n",
    "MAE=np.mean(np.abs(np.abs(df.CO2-predict_value))/df.CO2)\n",
    "MAE"
   ]
  }
 ],
 "metadata": {
  "kernelspec": {
   "display_name": "Python 3 (ipykernel)",
   "language": "python",
   "name": "python3"
  },
  "language_info": {
   "codemirror_mode": {
    "name": "ipython",
    "version": 3
   },
   "file_extension": ".py",
   "mimetype": "text/x-python",
   "name": "python",
   "nbconvert_exporter": "python",
   "pygments_lexer": "ipython3",
   "version": "3.9.16"
  }
 },
 "nbformat": 4,
 "nbformat_minor": 5
}
